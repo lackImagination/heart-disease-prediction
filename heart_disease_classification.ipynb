{
  "nbformat": 4,
  "nbformat_minor": 0,
  "metadata": {
    "colab": {
      "provenance": [],
      "authorship_tag": "ABX9TyNKxA+Ob+c9bxEFu/oeALMR"
    },
    "kernelspec": {
      "name": "python3",
      "display_name": "Python 3"
    },
    "language_info": {
      "name": "python"
    }
  },
  "cells": [
    {
      "cell_type": "markdown",
      "source": [
        "#Сравнение классификационных моделей для предсказания сердечно-сосудистых заболеваний\n",
        "Проведем анализ и сравнение нескольких классификационных моделей для задачи предсказания вероятности наличия сердечно-сосудистых заболеваний на основе набора данных. Рассмотрим подробное описание каждой части кода и шагов анализа."
      ],
      "metadata": {
        "id": "VSiSwpUWbMBU"
      }
    },
    {
      "cell_type": "markdown",
      "source": [
        "## Содержание\n",
        "1. **Импорт библиотек**\n",
        "2. **Загрузка и подготовка данных**\n",
        "3. **Функция для вычисления метрик**\n",
        "4. **Функция для обучения и оценки модели**\n",
        "5. **Обучение и оценка различных моделей**\n",
        "6. **Визуализация результатов**\n",
        "7. **ROC-кривая для лучшей модели (Random Forest)**\n",
        "8. **Вывод итоговых метрик** 9. **Заключение**"
      ],
      "metadata": {
        "id": "oVIynWkCbWaw"
      }
    },
    {
      "cell_type": "markdown",
      "source": [
        "### 1. Импорт библиотек"
      ],
      "metadata": {
        "id": "9BzBdyzxbp24"
      }
    },
    {
      "cell_type": "code",
      "execution_count": 1,
      "metadata": {
        "id": "2tPLWSAIYVJ1"
      },
      "outputs": [],
      "source": [
        "import pandas as pd\n",
        "import numpy as np\n",
        "import matplotlib.pyplot as plt\n",
        "import seaborn as sns\n",
        "from sklearn.model_selection import train_test_split, GridSearchCV\n",
        "from sklearn.tree import DecisionTreeClassifier, plot_tree\n",
        "from sklearn.ensemble import BaggingClassifier, RandomForestClassifier\n",
        "from sklearn.metrics import accuracy_score, precision_score, recall_score, f1_score, roc_auc_score, roc_curve"
      ]
    },
    {
      "cell_type": "markdown",
      "source": [
        "Для работы с данными и построения моделей используются следующие библиотеки:\n",
        "- **pandas** — для обработки данных в виде таблиц (DataFrame),\n",
        "- **numpy** — для работы с массивами,\n",
        "- **matplotlib** и **seaborn** — для визуализации данных,\n",
        "- **sklearn** — для реализации алгоритмов машинного обучения, включая разделение данных, обучение моделей и вычисление метрик."
      ],
      "metadata": {
        "id": "uwgRvE7ib4Cj"
      }
    },
    {
      "cell_type": "markdown",
      "source": [
        "### 2. Загрузка и подготовка данных"
      ],
      "metadata": {
        "id": "KyJH16licHP6"
      }
    },
    {
      "cell_type": "code",
      "source": [
        "from google.colab import files\n",
        "uploaded = files.upload()\n",
        "data = pd.read_csv('heart.csv')"
      ],
      "metadata": {
        "colab": {
          "base_uri": "https://localhost:8080/",
          "height": 74
        },
        "id": "8cnAAA0PcEjq",
        "outputId": "1309569c-fd76-4e86-e5aa-233ccac3609a"
      },
      "execution_count": 2,
      "outputs": [
        {
          "output_type": "display_data",
          "data": {
            "text/plain": [
              "<IPython.core.display.HTML object>"
            ],
            "text/html": [
              "\n",
              "     <input type=\"file\" id=\"files-146dd0a7-bc37-4d48-8fb1-64e28bd4a5dc\" name=\"files[]\" multiple disabled\n",
              "        style=\"border:none\" />\n",
              "     <output id=\"result-146dd0a7-bc37-4d48-8fb1-64e28bd4a5dc\">\n",
              "      Upload widget is only available when the cell has been executed in the\n",
              "      current browser session. Please rerun this cell to enable.\n",
              "      </output>\n",
              "      <script>// Copyright 2017 Google LLC\n",
              "//\n",
              "// Licensed under the Apache License, Version 2.0 (the \"License\");\n",
              "// you may not use this file except in compliance with the License.\n",
              "// You may obtain a copy of the License at\n",
              "//\n",
              "//      http://www.apache.org/licenses/LICENSE-2.0\n",
              "//\n",
              "// Unless required by applicable law or agreed to in writing, software\n",
              "// distributed under the License is distributed on an \"AS IS\" BASIS,\n",
              "// WITHOUT WARRANTIES OR CONDITIONS OF ANY KIND, either express or implied.\n",
              "// See the License for the specific language governing permissions and\n",
              "// limitations under the License.\n",
              "\n",
              "/**\n",
              " * @fileoverview Helpers for google.colab Python module.\n",
              " */\n",
              "(function(scope) {\n",
              "function span(text, styleAttributes = {}) {\n",
              "  const element = document.createElement('span');\n",
              "  element.textContent = text;\n",
              "  for (const key of Object.keys(styleAttributes)) {\n",
              "    element.style[key] = styleAttributes[key];\n",
              "  }\n",
              "  return element;\n",
              "}\n",
              "\n",
              "// Max number of bytes which will be uploaded at a time.\n",
              "const MAX_PAYLOAD_SIZE = 100 * 1024;\n",
              "\n",
              "function _uploadFiles(inputId, outputId) {\n",
              "  const steps = uploadFilesStep(inputId, outputId);\n",
              "  const outputElement = document.getElementById(outputId);\n",
              "  // Cache steps on the outputElement to make it available for the next call\n",
              "  // to uploadFilesContinue from Python.\n",
              "  outputElement.steps = steps;\n",
              "\n",
              "  return _uploadFilesContinue(outputId);\n",
              "}\n",
              "\n",
              "// This is roughly an async generator (not supported in the browser yet),\n",
              "// where there are multiple asynchronous steps and the Python side is going\n",
              "// to poll for completion of each step.\n",
              "// This uses a Promise to block the python side on completion of each step,\n",
              "// then passes the result of the previous step as the input to the next step.\n",
              "function _uploadFilesContinue(outputId) {\n",
              "  const outputElement = document.getElementById(outputId);\n",
              "  const steps = outputElement.steps;\n",
              "\n",
              "  const next = steps.next(outputElement.lastPromiseValue);\n",
              "  return Promise.resolve(next.value.promise).then((value) => {\n",
              "    // Cache the last promise value to make it available to the next\n",
              "    // step of the generator.\n",
              "    outputElement.lastPromiseValue = value;\n",
              "    return next.value.response;\n",
              "  });\n",
              "}\n",
              "\n",
              "/**\n",
              " * Generator function which is called between each async step of the upload\n",
              " * process.\n",
              " * @param {string} inputId Element ID of the input file picker element.\n",
              " * @param {string} outputId Element ID of the output display.\n",
              " * @return {!Iterable<!Object>} Iterable of next steps.\n",
              " */\n",
              "function* uploadFilesStep(inputId, outputId) {\n",
              "  const inputElement = document.getElementById(inputId);\n",
              "  inputElement.disabled = false;\n",
              "\n",
              "  const outputElement = document.getElementById(outputId);\n",
              "  outputElement.innerHTML = '';\n",
              "\n",
              "  const pickedPromise = new Promise((resolve) => {\n",
              "    inputElement.addEventListener('change', (e) => {\n",
              "      resolve(e.target.files);\n",
              "    });\n",
              "  });\n",
              "\n",
              "  const cancel = document.createElement('button');\n",
              "  inputElement.parentElement.appendChild(cancel);\n",
              "  cancel.textContent = 'Cancel upload';\n",
              "  const cancelPromise = new Promise((resolve) => {\n",
              "    cancel.onclick = () => {\n",
              "      resolve(null);\n",
              "    };\n",
              "  });\n",
              "\n",
              "  // Wait for the user to pick the files.\n",
              "  const files = yield {\n",
              "    promise: Promise.race([pickedPromise, cancelPromise]),\n",
              "    response: {\n",
              "      action: 'starting',\n",
              "    }\n",
              "  };\n",
              "\n",
              "  cancel.remove();\n",
              "\n",
              "  // Disable the input element since further picks are not allowed.\n",
              "  inputElement.disabled = true;\n",
              "\n",
              "  if (!files) {\n",
              "    return {\n",
              "      response: {\n",
              "        action: 'complete',\n",
              "      }\n",
              "    };\n",
              "  }\n",
              "\n",
              "  for (const file of files) {\n",
              "    const li = document.createElement('li');\n",
              "    li.append(span(file.name, {fontWeight: 'bold'}));\n",
              "    li.append(span(\n",
              "        `(${file.type || 'n/a'}) - ${file.size} bytes, ` +\n",
              "        `last modified: ${\n",
              "            file.lastModifiedDate ? file.lastModifiedDate.toLocaleDateString() :\n",
              "                                    'n/a'} - `));\n",
              "    const percent = span('0% done');\n",
              "    li.appendChild(percent);\n",
              "\n",
              "    outputElement.appendChild(li);\n",
              "\n",
              "    const fileDataPromise = new Promise((resolve) => {\n",
              "      const reader = new FileReader();\n",
              "      reader.onload = (e) => {\n",
              "        resolve(e.target.result);\n",
              "      };\n",
              "      reader.readAsArrayBuffer(file);\n",
              "    });\n",
              "    // Wait for the data to be ready.\n",
              "    let fileData = yield {\n",
              "      promise: fileDataPromise,\n",
              "      response: {\n",
              "        action: 'continue',\n",
              "      }\n",
              "    };\n",
              "\n",
              "    // Use a chunked sending to avoid message size limits. See b/62115660.\n",
              "    let position = 0;\n",
              "    do {\n",
              "      const length = Math.min(fileData.byteLength - position, MAX_PAYLOAD_SIZE);\n",
              "      const chunk = new Uint8Array(fileData, position, length);\n",
              "      position += length;\n",
              "\n",
              "      const base64 = btoa(String.fromCharCode.apply(null, chunk));\n",
              "      yield {\n",
              "        response: {\n",
              "          action: 'append',\n",
              "          file: file.name,\n",
              "          data: base64,\n",
              "        },\n",
              "      };\n",
              "\n",
              "      let percentDone = fileData.byteLength === 0 ?\n",
              "          100 :\n",
              "          Math.round((position / fileData.byteLength) * 100);\n",
              "      percent.textContent = `${percentDone}% done`;\n",
              "\n",
              "    } while (position < fileData.byteLength);\n",
              "  }\n",
              "\n",
              "  // All done.\n",
              "  yield {\n",
              "    response: {\n",
              "      action: 'complete',\n",
              "    }\n",
              "  };\n",
              "}\n",
              "\n",
              "scope.google = scope.google || {};\n",
              "scope.google.colab = scope.google.colab || {};\n",
              "scope.google.colab._files = {\n",
              "  _uploadFiles,\n",
              "  _uploadFilesContinue,\n",
              "};\n",
              "})(self);\n",
              "</script> "
            ]
          },
          "metadata": {}
        },
        {
          "output_type": "stream",
          "name": "stdout",
          "text": [
            "Saving heart.csv to heart.csv\n"
          ]
        }
      ]
    },
    {
      "cell_type": "markdown",
      "source": [
        "Данные загружаются из файла `heart.csv`, который содержит информацию о пациентах и их сердечно-сосудистых заболеваниях. В наборе данных могут быть такие признаки, как возраст, пол, уровень холестерина и другие.\n",
        "\n",
        "Данные взяты с сайта kaggle: https://www.kaggle.com/datasets/johnsmith88/heart-disease-dataset"
      ],
      "metadata": {
        "id": "fqFlk6rfcRtN"
      }
    },
    {
      "cell_type": "code",
      "source": [
        "X = data.drop('target', axis=1)\n",
        "y = data['target']"
      ],
      "metadata": {
        "id": "5gqjDYHXc0-o"
      },
      "execution_count": 3,
      "outputs": []
    },
    {
      "cell_type": "markdown",
      "source": [
        "Здесь происходит разделение данных на признаки (X) и целевую переменную (y). Целевая переменная `target` указывает на наличие или отсутствие заболевания (1 — заболевание есть, 0 — нет)."
      ],
      "metadata": {
        "id": "6ucTSG5qc91a"
      }
    },
    {
      "cell_type": "code",
      "source": [
        "X_train, X_test, y_train, y_test = train_test_split(X, y, test_size=0.3, random_state=777)"
      ],
      "metadata": {
        "id": "fM-ERw68dFyp"
      },
      "execution_count": 4,
      "outputs": []
    },
    {
      "cell_type": "markdown",
      "source": [
        "Данные делятся на обучающую и тестовую выборки: 70% данных используется для обучения модели, а 30% — для тестирования."
      ],
      "metadata": {
        "id": "G5Cd3mwAdLDQ"
      }
    },
    {
      "cell_type": "markdown",
      "source": [
        "### 3. Функция для вычисления метрик"
      ],
      "metadata": {
        "id": "71wqx0pNdOsD"
      }
    },
    {
      "cell_type": "code",
      "source": [
        "def calculate_metrics(y_true, y_pred):\n",
        "    \"\"\"\n",
        "    Вычисляет основные метрики качества модели.\n",
        "\n",
        "    Параметры:\n",
        "    y_true (array-like): Истинные метки классов\n",
        "    y_pred (array-like): Предсказанные метки\n",
        "\n",
        "    Возвращает:\n",
        "    dict: Метрики (accuracy, precision, recall, f1-score)\n",
        "    \"\"\"\n",
        "    return {\n",
        "        'Accuracy': accuracy_score(y_true, y_pred),\n",
        "        'Precision': precision_score(y_true, y_pred),\n",
        "        'Recall': recall_score(y_true, y_pred),\n",
        "        'F1-score': f1_score(y_true, y_pred)\n",
        "    }"
      ],
      "metadata": {
        "id": "AIQlIbVjdUf3"
      },
      "execution_count": 5,
      "outputs": []
    },
    {
      "cell_type": "markdown",
      "source": [
        "Функция вычисляет основные метрики качества классификационной модели: точность (accuracy), точность предсказания (precision), полноту (recall) и F1-меру. Эти метрики важны для оценки работы модели."
      ],
      "metadata": {
        "id": "Y3uLWipjdaLr"
      }
    },
    {
      "cell_type": "markdown",
      "source": [
        "### 4. Функция для обучения и оценки модели"
      ],
      "metadata": {
        "id": "L66crqFYdd7R"
      }
    },
    {
      "cell_type": "code",
      "source": [
        "def evaluate_model(model, X_train, y_train, X_test, y_test):\n",
        "    \"\"\"\n",
        "    Обучает модель, делает предсказания и вычисляет метрики.\n",
        "\n",
        "    Параметры:\n",
        "    model: Классификатор (обучаемый)\n",
        "    X_train, y_train: Обучающая выборка\n",
        "    X_test, y_test: Тестовая выборка\n",
        "\n",
        "    Возвращает:\n",
        "    dict: Метрики качества модели\n",
        "    \"\"\"\n",
        "    model.fit(X_train, y_train)\n",
        "    y_pred = model.predict(X_test)\n",
        "    return calculate_metrics(y_test, y_pred)"
      ],
      "metadata": {
        "id": "C4ZYOnXVdiVp"
      },
      "execution_count": 6,
      "outputs": []
    },
    {
      "cell_type": "markdown",
      "source": [
        "Эта функция обучает классификатор, делает предсказания на тестовых данных и вычисляет метрики качества, используя ранее описанную функцию `calculate_metrics`."
      ],
      "metadata": {
        "id": "N-pl70q9doKE"
      }
    },
    {
      "cell_type": "markdown",
      "source": [
        "### 5. Обучение и оценка различных моделей"
      ],
      "metadata": {
        "id": "lpfxIbZCdpNA"
      }
    },
    {
      "cell_type": "code",
      "source": [
        "models = {\n",
        "    \"Decision Tree\": DecisionTreeClassifier(random_state=3),\n",
        "    \"Bagging Classifier\": BaggingClassifier(DecisionTreeClassifier(), n_estimators=150, random_state=3),\n",
        "    \"Random Forest\": RandomForestClassifier(n_estimators=200, max_depth=10, max_features='sqrt', random_state=37)\n",
        "}"
      ],
      "metadata": {
        "id": "3AefB69ZdsDE"
      },
      "execution_count": 7,
      "outputs": []
    },
    {
      "cell_type": "markdown",
      "source": [
        "Три классификационные модели:\n",
        "- **Decision Tree** — дерево решений,\n",
        "- **Bagging Classifier** — ансамблевый метод, использующий несколько деревьев решений,\n",
        "- **Random Forest** — случайный лес, состоящий из множества деревьев решений."
      ],
      "metadata": {
        "id": "5ITjcYmudzz9"
      }
    },
    {
      "cell_type": "code",
      "source": [
        "results = {}\n",
        "for name, model in models.items():\n",
        "    results[name] = evaluate_model(model, X_train, y_train, X_test, y_test)"
      ],
      "metadata": {
        "id": "9K8lxe4wd4SI"
      },
      "execution_count": 8,
      "outputs": []
    },
    {
      "cell_type": "markdown",
      "source": [
        "Модели обучаются и оцениваются с использованием тестовой выборки. Результаты сохраняются в словарь `results`."
      ],
      "metadata": {
        "id": "HdXgB78ud75C"
      }
    },
    {
      "cell_type": "markdown",
      "source": [
        "### 6. Визуализация результатов"
      ],
      "metadata": {
        "id": "kVgF2I-geAHd"
      }
    },
    {
      "cell_type": "code",
      "source": [
        "results_df = pd.DataFrame(results).T\n",
        "plt.figure(figsize=(10, 6))\n",
        "sns.barplot(data=results_df, palette='viridis')\n",
        "plt.title('Сравнение моделей по метрикам')\n",
        "plt.xticks(rotation=45)\n",
        "plt.show()"
      ],
      "metadata": {
        "colab": {
          "base_uri": "https://localhost:8080/",
          "height": 585
        },
        "id": "efRatNp_eCii",
        "outputId": "39a275e1-4bbf-4f96-cc1e-85a15afed9d4"
      },
      "execution_count": 9,
      "outputs": [
        {
          "output_type": "display_data",
          "data": {
            "text/plain": [
              "<Figure size 1000x600 with 1 Axes>"
            ],
            "image/png": "[encoded data removed]"
          },
          "metadata": {}
        }
      ]
    },
    {
      "cell_type": "markdown",
      "source": [
        "Для наглядной визуализации результатов работы моделей строится столбчатая диаграмма, которая отображает метрики качества для каждой модели. Используется библиотека `seaborn` для улучшенной визуализации."
      ],
      "metadata": {
        "id": "3df4P6C4eG1D"
      }
    },
    {
      "cell_type": "markdown",
      "source": [
        "### 7. ROC-кривая для лучшей модели (Random Forest)\n"
      ],
      "metadata": {
        "id": "nkvdbHrbeNJ3"
      }
    },
    {
      "cell_type": "code",
      "source": [
        "rf_model = models[\"Random Forest\"]\n",
        "y_probs = rf_model.predict_proba(X_test)[:, 1]\n",
        "fpr, tpr, _ = roc_curve(y_test, y_probs)\n",
        "roc_auc = roc_auc_score(y_test, y_probs)"
      ],
      "metadata": {
        "id": "CQkOrIvYeQUn"
      },
      "execution_count": 10,
      "outputs": []
    },
    {
      "cell_type": "markdown",
      "source": [
        "Для модели случайного леса строится **ROC-кривая** — график, отображающий зависимость между истинными положительными срабатываниями и ложными положительными. Рассчитывается также показатель **ROC AUC**, который измеряет качество классификации."
      ],
      "metadata": {
        "id": "xO6lMSHJeUOM"
      }
    },
    {
      "cell_type": "code",
      "source": [
        "plt.figure(figsize=(8, 6))\n",
        "plt.plot(fpr, tpr, color='blue', label=f'ROC AUC = {roc_auc:.3f}')\n",
        "plt.plot([0, 1], [0, 1], linestyle='--', color='gray')\n",
        "plt.xlabel('False Positive Rate')\n",
        "plt.ylabel('True Positive Rate')\n",
        "plt.title('ROC-кривая Random Forest')\n",
        "plt.legend()\n",
        "plt.show()"
      ],
      "metadata": {
        "colab": {
          "base_uri": "https://localhost:8080/",
          "height": 564
        },
        "id": "xcVyE9oheYyW",
        "outputId": "1cfea22f-b215-4d5b-8ca4-bd8196d380fb"
      },
      "execution_count": 11,
      "outputs": [
        {
          "output_type": "display_data",
          "data": {
            "text/plain": [
              "<Figure size 800x600 with 1 Axes>"
            ],
            "image/png": "[encoded data removed]"
          },
          "metadata": {}
        }
      ]
    },
    {
      "cell_type": "markdown",
      "source": [
        "Строится ROC-кривая для модели случайного леса с отображением значения ROC AUC на графике."
      ],
      "metadata": {
        "id": "ECGvG6DFeb-l"
      }
    },
    {
      "cell_type": "markdown",
      "source": [
        "### 8. Вывод итоговых метрик\n",
        "\n"
      ],
      "metadata": {
        "id": "RdxZGZlhehEA"
      }
    },
    {
      "cell_type": "code",
      "source": [
        "print(results_df)"
      ],
      "metadata": {
        "colab": {
          "base_uri": "https://localhost:8080/"
        },
        "id": "Tp06IS-3eldq",
        "outputId": "4e1c00dd-99c6-4549-9cc2-79e991eefc94"
      },
      "execution_count": 12,
      "outputs": [
        {
          "output_type": "stream",
          "name": "stdout",
          "text": [
            "                    Accuracy  Precision  Recall  F1-score\n",
            "Decision Tree       0.954545   0.916168     1.0  0.956250\n",
            "Bagging Classifier  0.967532   0.938650     1.0  0.968354\n",
            "Random Forest       0.967532   0.938650     1.0  0.968354\n"
          ]
        }
      ]
    },
    {
      "cell_type": "markdown",
      "source": [
        "После выполнения всех шагов выводятся итоговые метрики для каждой модели, чтобы можно было оценить, какая модель наиболее эффективна на тестовых данных.\n"
      ],
      "metadata": {
        "id": "yAVsDiX7epkK"
      }
    },
    {
      "cell_type": "markdown",
      "source": [
        "### 9. Заключение\n",
        "В этом ноутбуке были рассмотрены три классификационные модели для задачи предсказания сердечно-сосудистых заболеваний. Каждая модель была обучена и оценена с использованием метрик качества, таких как точность, точность предсказания, полнота и F1-меры. Визуализированы результаты сравнения моделей и построена ROC-кривая для лучшей модели, которая продемонстрировала наибольшую эффективность."
      ],
      "metadata": {
        "id": "9e5AZMTvesRR"
      }
    }
  ]
}